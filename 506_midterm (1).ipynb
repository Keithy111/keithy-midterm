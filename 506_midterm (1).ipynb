{
 "cells": [
  {
   "cell_type": "markdown",
   "metadata": {},
   "source": [
    "# Libraries"
   ]
  },
  {
   "cell_type": "code",
   "execution_count": 4,
   "metadata": {},
   "outputs": [],
   "source": [
    "import pickle\n",
    "import pandas as pd\n",
    "import seaborn as sns\n",
    "from os.path import exists\n",
    "import matplotlib.pyplot as plt\n",
    "from sklearn.neighbors import KNeighborsClassifier\n",
    "from sklearn.model_selection import train_test_split\n",
    "from sklearn.metrics import accuracy_score, confusion_matrix\n",
    "from sklearn.ensemble import GradientBoostingClassifier\n",
    "import numpy as np\n",
    "from textblob import TextBlob"
   ]
  },
  {
   "cell_type": "markdown",
   "metadata": {},
   "source": [
    "# Loading the Files\n",
    "\n",
    "Download the csv files into the `data/` directory."
   ]
  },
  {
   "cell_type": "code",
   "execution_count": 5,
   "metadata": {},
   "outputs": [],
   "source": [
    "trainingSet = pd.read_csv(\"./data/train.csv\")\n",
    "testingSet = pd.read_csv(\"./data/test.csv\")\n",
    "\n",
    "# print(\"train.csv shape is \", trainingSet.shape)\n",
    "# print(\"test.csv shape is \", testingSet.shape)\n",
    "\n",
    "# print()\n",
    "\n",
    "# print(trainingSet.head())\n",
    "# print()\n",
    "# print(testingSet.head())\n",
    "\n",
    "# print()\n",
    "\n",
    "# print(trainingSet.describe())\n",
    "\n",
    "# trainingSet['Score'].value_counts().plot(kind='bar', legend=True, alpha=.5)\n",
    "# plt.show()\n",
    "\n",
    "# print()\n",
    "# print(\"EVERYTHING IS PROPERLY SET UP! YOU ARE READY TO START\")"
   ]
  },
  {
   "cell_type": "markdown",
   "metadata": {},
   "source": [
    "# Adding Features"
   ]
  },
  {
   "cell_type": "code",
   "execution_count": 15,
   "metadata": {},
   "outputs": [],
   "source": [
    "def add_features_to(df, train_data=None):\n",
    "    \"\"\"Add features to the DataFrame.\"\"\"\n",
    "    \n",
    "    # Compute helpfulness metrics\n",
    "    df['Helpfulness'] = df['HelpfulnessNumerator'] / df['HelpfulnessDenominator']\n",
    "    df['Helpfulness'].fillna(0, inplace=True)\n",
    "    \n",
    "    df['IsHelpful'] = (df['HelpfulnessNumerator'] > 0).astype(int)\n",
    "    df['HelpfulnessDifference'] = df['HelpfulnessNumerator'] - df['HelpfulnessDenominator']\n",
    "    df['WeightedHelpfulness'] = df['HelpfulnessNumerator'] / (df['HelpfulnessDenominator'] + 1)\n",
    "    \n",
    "    # Compute user and product review history\n",
    "    if train_data is not None:\n",
    "        user_avg_scores = train_data.groupby('UserId')['Score'].mean()\n",
    "        product_avg_scores = train_data.groupby('ProductId')['Score'].mean()\n",
    "        overall_mean_score = train_data['Score'].mean()\n",
    "    else:\n",
    "        user_avg_scores = df.groupby('UserId')['Score'].mean()\n",
    "        product_avg_scores = df.groupby('ProductId')['Score'].mean()\n",
    "        overall_mean_score = df['Score'].mean()\n",
    "\n",
    "    df['UserAvgScore'] = df['UserId'].map(user_avg_scores).fillna(overall_mean_score)\n",
    "    df['ProductAvgScore'] = df['ProductId'].map(product_avg_scores).fillna(overall_mean_score)\n",
    "    df['UserMedianScore'] = df['UserId'].map((train_data if train_data is not None else df).groupby('UserId')['Score'].median()).fillna(overall_mean_score)\n",
    "    df['UserReviewTotal'] = df['UserId'].map((train_data if train_data is not None else df).groupby('UserId')['Score'].count()).fillna(0)\n",
    "\n",
    "    # Compute textual features\n",
    "    df['Text'] = df['Text'].fillna(\"\").astype(str)\n",
    "    df['ReviewWordCount'] = df['Text'].apply(lambda text: len(text.split()))\n",
    "    df['UniqueWordCount'] = df['Text'].apply(lambda text: len(set(text.split())))\n",
    "\n",
    "    # Perform sentiment analysis\n",
    "    df['SentimentPolarity'] = df['Text'].apply(lambda text: TextBlob(text).sentiment.polarity)\n",
    "    \n",
    "    return df\n",
    "\n",
    "if exists('./data/X_train.csv'):\n",
    "    X_train = pd.read_csv(\"./data/X_train.csv\")\n",
    "if exists('./data/X_submission.csv'):\n",
    "    X_submission = pd.read_csv(\"./data/X_submission.csv\")\n",
    "else:\n",
    "    # Augment training data\n",
    "    train_augmented = add_features_to(trainingSet)\n",
    "    \n",
    "    # Combine training and testing on 'Id'\n",
    "    X_submission = pd.merge(train_augmented, testingSet, on='Id')\n",
    "    X_submission = X_submission.drop(columns=['Score_x'])\n",
    "    X_submission = X_submission.rename(columns={'Score_y': 'Score'})\n",
    "    \n",
    "    # Augment submission set with train data stats\n",
    "    X_submission = add_features_to(X_submission, trainingSet)\n",
    "    \n",
    "    # Separate training rows with non-null scores\n",
    "    X_train = train_augmented[train_augmented['Score'].notna()]\n",
    "    \n",
    "    X_submission.to_csv(\"./data/X_submission.csv\", index=False)\n",
    "    X_train.to_csv(\"./data/X_train.csv\", index=False)\n"
   ]
  },
  {
   "cell_type": "markdown",
   "metadata": {},
   "source": [
    "# Sample + Split into training and testing set"
   ]
  },
  {
   "cell_type": "code",
   "execution_count": 7,
   "metadata": {},
   "outputs": [
    {
     "name": "stdout",
     "output_type": "stream",
     "text": [
      "Training Set Shape: X_train: (1114005, 23), Y_train: (1114005,)\n",
      "Testing Set Shape: X_test: (371336, 23), Y_test: (371336,)\n"
     ]
    }
   ],
   "source": [
    "# Split the training data into features and target variable\n",
    "X = X_train.drop(columns=['Score'])\n",
    "Y = X_train['Score']\n",
    "\n",
    "# Split the training set into training and testing sets for offline evaluation\n",
    "X_train, X_test, Y_train, Y_test = train_test_split(\n",
    "    X,  # Features (excluding 'Score')\n",
    "    Y,  # Target variable ('Score')\n",
    "    test_size=0.25, \n",
    "    random_state=0 \n",
    ")\n",
    "\n",
    "# Check the dimensions of the resulting datasets\n",
    "print(f\"Training Set Shape: X_train: {X_train.shape}, Y_train: {Y_train.shape}\")\n",
    "print(f\"Testing Set Shape: X_test: {X_test.shape}, Y_test: {Y_test.shape}\")\n"
   ]
  },
  {
   "cell_type": "markdown",
   "metadata": {},
   "source": [
    "# Feature Selection"
   ]
  },
  {
   "cell_type": "code",
   "execution_count": 8,
   "metadata": {},
   "outputs": [],
   "source": [
    "# Updated feature list with all additional features\n",
    "\n",
    "features = [\n",
    "    'HelpfulnessNumerator',\n",
    "    'HelpfulnessDenominator',\n",
    "    'Helpfulness',               # Derived from HelpfulnessNumerator and HelpfulnessDenominator\n",
    "    'IsHelpful',                 # Derived from HelpfulnessNumerator\n",
    "    'HelpfulnessDifference',     # Derived from HelpfulnessNumerator and HelpfulnessDenominator\n",
    "    'WeightedHelpfulness',       # Derived from HelpfulnessNumerator and HelpfulnessDenominator\n",
    "    'UserAvgScore',              # Derived from UserId in compute_user_product_history\n",
    "    'ProductAvgScore',           # Derived from ProductId in compute_user_product_history\n",
    "    'UserMedianScore',           # Derived from UserId in compute_user_product_history\n",
    "    'UserReviewTotal',           # Derived from UserId in compute_user_product_history\n",
    "    'ReviewWordCount',           # Derived from Text in compute_textual_features\n",
    "    'UniqueWordCount',           # Derived from Text in compute_textual_features\n",
    "    'SentimentPolarity'          # Derived from Text in compute_sentiment_analysis\n",
    "]\n",
    "\n",
    "# Selecting features for training and testing\n",
    "X_train_select = X_train[features]\n",
    "X_test_select = X_test[features]  # Assuming X_test has been defined similarly\n",
    "X_submission_select = X_submission[features]"
   ]
  },
  {
   "cell_type": "markdown",
   "metadata": {},
   "source": [
    "# Model Creation"
   ]
  },
  {
   "cell_type": "code",
   "execution_count": 12,
   "metadata": {},
   "outputs": [],
   "source": [
    "model = GradientBoostingClassifier(n_estimators=130, learning_rate=0.2, random_state=42, n_iter_no_change=10)\n",
    "model.fit(X_train_select, Y_train)\n",
    "\n",
    "Y_test_predictions = model.predict(X_test_select)"
   ]
  },
  {
   "cell_type": "markdown",
   "metadata": {},
   "source": [
    "# Model Evaluation"
   ]
  },
  {
   "cell_type": "code",
   "execution_count": 13,
   "metadata": {},
   "outputs": [
    {
     "name": "stdout",
     "output_type": "stream",
     "text": [
      "Accuracy on testing set =  0.650160501540384\n"
     ]
    },
    {
     "data": {
      "image/png": "[encoded data removed]",
      "text/plain": [
       "<Figure size 432x288 with 2 Axes>"
      ]
     },
     "metadata": {
      "needs_background": "light"
     },
     "output_type": "display_data"
    }
   ],
   "source": [
    "# Evaluate your model on the testing set\n",
    "print(\"Accuracy on testing set = \", accuracy_score(Y_test, Y_test_predictions))\n",
    "\n",
    "# Plot a confusion matrix\n",
    "cm = confusion_matrix(Y_test, Y_test_predictions, normalize='true')\n",
    "sns.heatmap(cm, annot=True)\n",
    "plt.title('Confusion matrix of the classifier')\n",
    "plt.xlabel('Predicted')\n",
    "plt.ylabel('True')\n",
    "plt.show()"
   ]
  },
  {
   "cell_type": "markdown",
   "metadata": {},
   "source": [
    "# Create submission file"
   ]
  },
  {
   "cell_type": "code",
   "execution_count": 14,
   "metadata": {},
   "outputs": [],
   "source": [
    "\n",
    "X_submission['Score'] = model.predict(X_submission_select)\n",
    "submission = X_submission[['Id', 'Score']]\n",
    "submission.to_csv(\"./data2/submission.csv\", index=False)"
   ]
  },
  {
   "cell_type": "code",
   "execution_count": null,
   "metadata": {},
   "outputs": [],
   "source": []
  }
 ],
 "metadata": {
  "kernelspec": {
   "display_name": "Python 3 (ipykernel)",
   "language": "python",
   "name": "python3"
  },
  "language_info": {
   "codemirror_mode": {
    "name": "ipython",
    "version": 3
   },
   "file_extension": ".py",
   "mimetype": "text/x-python",
   "name": "python",
   "nbconvert_exporter": "python",
   "pygments_lexer": "ipython3",
   "version": "3.9.12"
  }
 },
 "nbformat": 4,
 "nbformat_minor": 4
}
